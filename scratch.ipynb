{
 "cells": [
  {
   "cell_type": "code",
   "execution_count": 14,
   "metadata": {},
   "outputs": [],
   "source": [
    "import torch\n",
    "import torch.nn as nn\n",
    "import torch.optim as optim\n",
    "import torchvision\n",
    "import torchvision.transforms as transforms\n",
    "from torch.utils.data import DataLoader"
   ]
  },
  {
   "cell_type": "code",
   "execution_count": 15,
   "metadata": {},
   "outputs": [],
   "source": [
    "transform = transforms.Compose([\n",
    "    transforms.Resize((32, 32)),\n",
    "    transforms.ToTensor(),\n",
    "    transforms.Normalize((0.5,), (0.5,))\n",
    "])"
   ]
  },
  {
   "cell_type": "code",
   "execution_count": 16,
   "metadata": {},
   "outputs": [],
   "source": [
    "conv1 = nn.Conv2d(3, 32, kernel_size=3)\n",
    "conv2 = nn.Conv2d(32, 64, kernel_size=3)\n",
    "fc1 = nn.Linear(64 * 6 * 6, 128)\n",
    "fc2 = nn.Linear(128, 43) # 43 classes in GTSRB dataset"
   ]
  },
  {
   "cell_type": "code",
   "execution_count": 17,
   "metadata": {},
   "outputs": [],
   "source": [
    "from PIL import Image\n",
    "import torchvision.transforms.functional as TF\n",
    "import io\n",
    "\n",
    "# image = Image.open('./test-img.png')\n",
    "# x = transform(image)\n",
    "# # x = x.unsqueeze_(0)\n",
    "\n",
    "\n",
    "# Read the image\n",
    "with open('./test-img.png', 'rb') as file:\n",
    "    image_bytes = file.read()\n",
    "image = Image.open(io.BytesIO(image_bytes)).convert(\"RGB\")\n",
    "\n",
    "# Preprocess the image\n",
    "x = transform(image).unsqueeze(0) # Add batch dimension\n"
   ]
  },
  {
   "cell_type": "code",
   "execution_count": 18,
   "metadata": {},
   "outputs": [
    {
     "name": "stdout",
     "output_type": "stream",
     "text": [
      "1 torch.Size([1, 3, 32, 32])\n",
      "2 torch.Size([1, 32, 30, 30])\n",
      "3 torch.Size([1, 32, 15, 15])\n",
      "4 torch.Size([1, 64, 13, 13])\n",
      "5 torch.Size([1, 64, 6, 6])\n",
      "6 torch.Size([1, 2304])\n",
      "7 torch.Size([1, 128])\n",
      "8 torch.Size([1, 43])\n"
     ]
    }
   ],
   "source": [
    "print(1, x.shape)\n",
    "\n",
    "x = torch.relu(conv1(x))\n",
    "print(2, x.shape)\n",
    "\n",
    "x = torch.max_pool2d(x, 2)\n",
    "print(3, x.shape)\n",
    "\n",
    "x = torch.relu(conv2(x))\n",
    "print(4, x.shape)\n",
    "\n",
    "x = torch.max_pool2d(x, 2)\n",
    "print(5, x.shape)\n",
    "\n",
    "x = torch.flatten(x, 1)\n",
    "print(6, x.shape)\n",
    "\n",
    "x = torch.relu(fc1(x))\n",
    "print(7, x.shape)\n",
    "\n",
    "x = fc2(x)\n",
    "print(8, x.shape)\n",
    "\n",
    "\n",
    "# output = model(X)"
   ]
  },
  {
   "cell_type": "code",
   "execution_count": 19,
   "metadata": {},
   "outputs": [
    {
     "data": {
      "text/plain": [
       "torch.return_types.max(\n",
       "values=tensor([0.1279], grad_fn=<MaxBackward0>),\n",
       "indices=tensor([3]))"
      ]
     },
     "execution_count": 19,
     "metadata": {},
     "output_type": "execute_result"
    }
   ],
   "source": [
    "torch.max(x,1)"
   ]
  },
  {
   "cell_type": "code",
   "execution_count": 20,
   "metadata": {},
   "outputs": [
    {
     "data": {
      "text/plain": [
       "tensor([[0.0246, 0.0239, 0.0235, 0.0262, 0.0220, 0.0228, 0.0222, 0.0236, 0.0251,\n",
       "         0.0215, 0.0209, 0.0226, 0.0239, 0.0229, 0.0212, 0.0245, 0.0241, 0.0241,\n",
       "         0.0257, 0.0240, 0.0213, 0.0207, 0.0235, 0.0234, 0.0223, 0.0220, 0.0251,\n",
       "         0.0213, 0.0251, 0.0239, 0.0208, 0.0223, 0.0255, 0.0235, 0.0246, 0.0257,\n",
       "         0.0243, 0.0211, 0.0212, 0.0237, 0.0235, 0.0215, 0.0246]],\n",
       "       grad_fn=<SoftmaxBackward0>)"
      ]
     },
     "execution_count": 20,
     "metadata": {},
     "output_type": "execute_result"
    }
   ],
   "source": [
    "torch.softmax(x,1)"
   ]
  },
  {
   "cell_type": "code",
   "execution_count": 21,
   "metadata": {},
   "outputs": [
    {
     "data": {
      "text/plain": [
       "tensor([3])"
      ]
     },
     "execution_count": 21,
     "metadata": {},
     "output_type": "execute_result"
    }
   ],
   "source": [
    "_, p = torch.max(x,1)\n",
    "p"
   ]
  }
 ],
 "metadata": {
  "kernelspec": {
   "display_name": ".venv",
   "language": "python",
   "name": "python3"
  },
  "language_info": {
   "codemirror_mode": {
    "name": "ipython",
    "version": 3
   },
   "file_extension": ".py",
   "mimetype": "text/x-python",
   "name": "python",
   "nbconvert_exporter": "python",
   "pygments_lexer": "ipython3",
   "version": "3.11.9"
  }
 },
 "nbformat": 4,
 "nbformat_minor": 2
}
